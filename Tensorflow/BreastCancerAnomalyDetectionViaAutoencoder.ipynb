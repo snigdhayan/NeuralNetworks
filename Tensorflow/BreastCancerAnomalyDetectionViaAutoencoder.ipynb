{
 "cells": [
  {
   "cell_type": "code",
   "execution_count": 1,
   "id": "broad-intersection",
   "metadata": {},
   "outputs": [],
   "source": [
    "import matplotlib.pyplot as plt\n",
    "import numpy as np\n",
    "import pandas as pd\n",
    "import tensorflow as tf\n",
    "\n",
    "from sklearn.preprocessing import MinMaxScaler\n",
    "from sklearn.feature_selection import SelectPercentile, f_regression\n",
    "from sklearn.metrics import accuracy_score, precision_score, recall_score\n",
    "from sklearn.model_selection import train_test_split\n",
    "from tensorflow.keras import layers, losses\n",
    "from tensorflow.keras.datasets import fashion_mnist\n",
    "from tensorflow.keras.models import Model"
   ]
  },
  {
   "cell_type": "code",
   "execution_count": 2,
   "id": "fixed-exclusive",
   "metadata": {},
   "outputs": [],
   "source": [
    "# Read the dataset\n",
    "dataframe = pd.read_csv(\"breast_cancer_dataset.csv\")"
   ]
  },
  {
   "cell_type": "code",
   "execution_count": 3,
   "id": "decreased-bulgarian",
   "metadata": {},
   "outputs": [
    {
     "data": {
      "text/html": [
       "<div>\n",
       "<style scoped>\n",
       "    .dataframe tbody tr th:only-of-type {\n",
       "        vertical-align: middle;\n",
       "    }\n",
       "\n",
       "    .dataframe tbody tr th {\n",
       "        vertical-align: top;\n",
       "    }\n",
       "\n",
       "    .dataframe thead th {\n",
       "        text-align: right;\n",
       "    }\n",
       "</style>\n",
       "<table border=\"1\" class=\"dataframe\">\n",
       "  <thead>\n",
       "    <tr style=\"text-align: right;\">\n",
       "      <th></th>\n",
       "      <th>worst_perimeter</th>\n",
       "      <th>worst_concave_points</th>\n",
       "      <th>label</th>\n",
       "    </tr>\n",
       "  </thead>\n",
       "  <tbody>\n",
       "    <tr>\n",
       "      <th>0</th>\n",
       "      <td>0.668310</td>\n",
       "      <td>0.912027</td>\n",
       "      <td>0.0</td>\n",
       "    </tr>\n",
       "    <tr>\n",
       "      <th>1</th>\n",
       "      <td>0.539818</td>\n",
       "      <td>0.639175</td>\n",
       "      <td>0.0</td>\n",
       "    </tr>\n",
       "    <tr>\n",
       "      <th>2</th>\n",
       "      <td>0.508442</td>\n",
       "      <td>0.835052</td>\n",
       "      <td>0.0</td>\n",
       "    </tr>\n",
       "    <tr>\n",
       "      <th>3</th>\n",
       "      <td>0.241347</td>\n",
       "      <td>0.884880</td>\n",
       "      <td>0.0</td>\n",
       "    </tr>\n",
       "    <tr>\n",
       "      <th>4</th>\n",
       "      <td>0.506948</td>\n",
       "      <td>0.558419</td>\n",
       "      <td>0.0</td>\n",
       "    </tr>\n",
       "  </tbody>\n",
       "</table>\n",
       "</div>"
      ],
      "text/plain": [
       "   worst_perimeter  worst_concave_points  label\n",
       "0         0.668310              0.912027    0.0\n",
       "1         0.539818              0.639175    0.0\n",
       "2         0.508442              0.835052    0.0\n",
       "3         0.241347              0.884880    0.0\n",
       "4         0.506948              0.558419    0.0"
      ]
     },
     "execution_count": 3,
     "metadata": {},
     "output_type": "execute_result"
    }
   ],
   "source": [
    "#Select the features in the top xxth percentile\n",
    "data_norm = MinMaxScaler().fit_transform(dataframe.values)\n",
    "\n",
    "selector = SelectPercentile(f_regression, percentile=10)\n",
    "data_new = selector.fit_transform(data_norm, dataframe[\"label\"])\n",
    "\n",
    "feature_support = selector.get_support()\n",
    "selected_features = dataframe.loc[:,feature_support].columns\n",
    "\n",
    "# Prepare transformed dataset with reduced features as dataframe\n",
    "breast_cancer_df = pd.DataFrame(data = data_new, columns = selected_features)\n",
    "raw_data = breast_cancer_df.values\n",
    "feature_size = len(selected_features)-1\n",
    "\n",
    "breast_cancer_df.head()"
   ]
  },
  {
   "cell_type": "code",
   "execution_count": 4,
   "id": "satellite-guitar",
   "metadata": {},
   "outputs": [],
   "source": [
    "# The last column contains the labels\n",
    "labels = raw_data[:, -1]\n",
    "\n",
    "# The other columns consist of selected features\n",
    "data = raw_data[:, 0:-1]"
   ]
  },
  {
   "cell_type": "code",
   "execution_count": 5,
   "id": "empty-importance",
   "metadata": {},
   "outputs": [],
   "source": [
    "# Train test split\n",
    "train_data, test_data, train_labels, test_labels = train_test_split(data, labels, test_size=0.2, random_state=7)\n",
    "\n",
    "train_data = tf.cast(train_data, tf.float32)\n",
    "test_data = tf.cast(test_data, tf.float32)"
   ]
  },
  {
   "cell_type": "code",
   "execution_count": 6,
   "id": "gentle-annotation",
   "metadata": {},
   "outputs": [],
   "source": [
    "# Differentiate between benign (normal) and malignant (anomalous) datasets\n",
    "train_labels = train_labels.astype(bool)\n",
    "test_labels = test_labels.astype(bool)\n",
    "\n",
    "normal_train_data = train_data[~train_labels]\n",
    "normal_test_data = test_data[~test_labels]\n",
    "\n",
    "anomalous_train_data = train_data[train_labels]\n",
    "anomalous_test_data = test_data[test_labels]"
   ]
  },
  {
   "cell_type": "code",
   "execution_count": 7,
   "id": "accepted-survey",
   "metadata": {},
   "outputs": [],
   "source": [
    "# Define an anomaly detector model as an autoencoder\n",
    "class AnomalyDetector(Model):\n",
    "  def __init__(self):\n",
    "    super(AnomalyDetector, self).__init__()\n",
    "    self.encoder = tf.keras.Sequential([\n",
    "      layers.Dense(64, activation=\"relu\"),\n",
    "      layers.Dense(32, activation=\"relu\"),\n",
    "      layers.Dense(16, activation=\"relu\"),\n",
    "      layers.Dense(8, activation=\"relu\")])\n",
    "\n",
    "    self.decoder = tf.keras.Sequential([\n",
    "      layers.Dense(8, activation=\"relu\"),\n",
    "      layers.Dense(16, activation=\"relu\"),\n",
    "      layers.Dense(32, activation=\"relu\"),\n",
    "      layers.Dense(64, activation=\"relu\"),\n",
    "      layers.Dense(feature_size, activation=\"sigmoid\")])\n",
    "\n",
    "  def call(self, x):\n",
    "    encoded = self.encoder(x)\n",
    "    decoded = self.decoder(encoded)\n",
    "    return decoded"
   ]
  },
  {
   "cell_type": "code",
   "execution_count": 8,
   "id": "cellular-original",
   "metadata": {},
   "outputs": [],
   "source": [
    "autoencoder = AnomalyDetector()\n",
    "autoencoder.compile(optimizer='adam', loss='MAE')"
   ]
  },
  {
   "cell_type": "code",
   "execution_count": 9,
   "id": "internal-logging",
   "metadata": {},
   "outputs": [
    {
     "name": "stdout",
     "output_type": "stream",
     "text": [
      "Epoch 1/20\n",
      "11/11 [==============================] - 0s 24ms/step - loss: 0.1415 - val_loss: 0.1510\n",
      "Epoch 2/20\n",
      "11/11 [==============================] - 0s 4ms/step - loss: 0.1346 - val_loss: 0.1456\n",
      "Epoch 3/20\n",
      "11/11 [==============================] - 0s 4ms/step - loss: 0.1265 - val_loss: 0.1382\n",
      "Epoch 4/20\n",
      "11/11 [==============================] - 0s 4ms/step - loss: 0.1171 - val_loss: 0.1312\n",
      "Epoch 5/20\n",
      "11/11 [==============================] - 0s 4ms/step - loss: 0.1137 - val_loss: 0.1286\n",
      "Epoch 6/20\n",
      "11/11 [==============================] - 0s 4ms/step - loss: 0.1118 - val_loss: 0.1262\n",
      "Epoch 7/20\n",
      "11/11 [==============================] - 0s 4ms/step - loss: 0.1091 - val_loss: 0.1216\n",
      "Epoch 8/20\n",
      "11/11 [==============================] - 0s 4ms/step - loss: 0.1052 - val_loss: 0.1152\n",
      "Epoch 9/20\n",
      "11/11 [==============================] - 0s 4ms/step - loss: 0.0960 - val_loss: 0.1035\n",
      "Epoch 10/20\n",
      "11/11 [==============================] - 0s 4ms/step - loss: 0.0834 - val_loss: 0.0898\n",
      "Epoch 11/20\n",
      "11/11 [==============================] - 0s 3ms/step - loss: 0.0700 - val_loss: 0.0745\n",
      "Epoch 12/20\n",
      "11/11 [==============================] - 0s 4ms/step - loss: 0.0623 - val_loss: 0.0705\n",
      "Epoch 13/20\n",
      "11/11 [==============================] - 0s 4ms/step - loss: 0.0603 - val_loss: 0.0680\n",
      "Epoch 14/20\n",
      "11/11 [==============================] - 0s 4ms/step - loss: 0.0593 - val_loss: 0.0674\n",
      "Epoch 15/20\n",
      "11/11 [==============================] - 0s 4ms/step - loss: 0.0576 - val_loss: 0.0665\n",
      "Epoch 16/20\n",
      "11/11 [==============================] - 0s 4ms/step - loss: 0.0573 - val_loss: 0.0660\n",
      "Epoch 17/20\n",
      "11/11 [==============================] - 0s 3ms/step - loss: 0.0575 - val_loss: 0.0646\n",
      "Epoch 18/20\n",
      "11/11 [==============================] - 0s 5ms/step - loss: 0.0575 - val_loss: 0.0666\n",
      "Epoch 19/20\n",
      "11/11 [==============================] - 0s 4ms/step - loss: 0.0583 - val_loss: 0.0661\n",
      "Epoch 20/20\n",
      "11/11 [==============================] - 0s 4ms/step - loss: 0.0570 - val_loss: 0.0638\n"
     ]
    }
   ],
   "source": [
    "# Train the autoencoder on the normal dataset\n",
    "history = autoencoder.fit(normal_train_data, normal_train_data, \n",
    "          epochs=20, \n",
    "          batch_size=16,\n",
    "          validation_data=(normal_test_data, normal_test_data),\n",
    "          shuffle=True)"
   ]
  },
  {
   "cell_type": "code",
   "execution_count": 10,
   "id": "impressive-google",
   "metadata": {},
   "outputs": [
    {
     "data": {
      "text/plain": [
       "<matplotlib.legend.Legend at 0x288909c8708>"
      ]
     },
     "execution_count": 10,
     "metadata": {},
     "output_type": "execute_result"
    },
    {
     "data": {
      "image/png": "[encoded data removed]",
      "text/plain": [
       "<Figure size 432x288 with 1 Axes>"
      ]
     },
     "metadata": {
      "needs_background": "light"
     },
     "output_type": "display_data"
    }
   ],
   "source": [
    "plt.plot(history.history[\"loss\"], label=\"Training Loss\")\n",
    "plt.plot(history.history[\"val_loss\"], label=\"Validation Loss\")\n",
    "plt.legend()"
   ]
  },
  {
   "cell_type": "code",
   "execution_count": 11,
   "id": "distributed-pencil",
   "metadata": {},
   "outputs": [],
   "source": [
    "# Compute reconstruction error of normal test data\n",
    "reconstructions = autoencoder.predict(normal_test_data)\n",
    "train_loss = tf.keras.losses.MAE(reconstructions, normal_test_data)"
   ]
  },
  {
   "cell_type": "code",
   "execution_count": 12,
   "id": "subject-furniture",
   "metadata": {},
   "outputs": [
    {
     "name": "stdout",
     "output_type": "stream",
     "text": [
      "Threshold:  0.110876404\n"
     ]
    }
   ],
   "source": [
    "# Our ansatz for threshold\n",
    "threshold = np.mean(train_loss) + np.std(train_loss)\n",
    "print(\"Threshold: \", threshold)"
   ]
  },
  {
   "cell_type": "code",
   "execution_count": 13,
   "id": "italic-chinese",
   "metadata": {},
   "outputs": [
    {
     "data": {
      "image/png": "[encoded data removed]",
      "text/plain": [
       "<Figure size 432x288 with 1 Axes>"
      ]
     },
     "metadata": {
      "needs_background": "light"
     },
     "output_type": "display_data"
    }
   ],
   "source": [
    "# Compute reconstruction error of anomalous test data\n",
    "reconstructions = autoencoder.predict(anomalous_test_data)\n",
    "test_loss = tf.keras.losses.MAE(reconstructions, anomalous_test_data)\n",
    "\n",
    "plt.hist(test_loss, bins=50)\n",
    "plt.xlabel(\"Test loss\")\n",
    "plt.ylabel(\"No of examples\")\n",
    "plt.show()"
   ]
  },
  {
   "cell_type": "code",
   "execution_count": 14,
   "id": "fatty-investing",
   "metadata": {},
   "outputs": [],
   "source": [
    "def predict(model, data, threshold):\n",
    "  reconstructions = model(data)\n",
    "  loss = tf.keras.losses.MAE(reconstructions, data)\n",
    "  return tf.math.less(loss, threshold)\n",
    "\n",
    "def print_stats(predictions, labels):\n",
    "  print(\"Accuracy = {}\".format(accuracy_score(labels, preds)))\n",
    "  print(\"Precision = {}\".format(precision_score(labels, preds)))\n",
    "  print(\"Recall = {}\".format(recall_score(labels, preds)))"
   ]
  },
  {
   "cell_type": "code",
   "execution_count": 15,
   "id": "backed-starter",
   "metadata": {},
   "outputs": [
    {
     "name": "stdout",
     "output_type": "stream",
     "text": [
      "Accuracy = 0.3508771929824561\n",
      "Precision = 0.5\n",
      "Recall = 0.44594594594594594\n"
     ]
    }
   ],
   "source": [
    "# Evaluate performance\n",
    "preds = predict(autoencoder, test_data, threshold)\n",
    "print_stats(preds, test_labels)"
   ]
  },
  {
   "cell_type": "code",
   "execution_count": 16,
   "id": "charged-bonus",
   "metadata": {},
   "outputs": [
    {
     "name": "stdout",
     "output_type": "stream",
     "text": [
      "Accuracy = 0.6491228070175439\n",
      "Precision = 0.6491228070175439\n",
      "Recall = 1.0\n"
     ]
    }
   ],
   "source": [
    "# Evaluate performance based on a different threshold\n",
    "preds = predict(autoencoder, test_data, 10*threshold)\n",
    "print_stats(preds, test_labels)"
   ]
  }
 ],
 "metadata": {
  "kernelspec": {
   "display_name": "Python 3.7.7 64-bit ('tf': conda)",
   "language": "python",
   "name": "python37764bittfconda08f0c17ca2ba44d18050ac627d0335c2"
  },
  "language_info": {
   "codemirror_mode": {
    "name": "ipython",
    "version": 3
   },
   "file_extension": ".py",
   "mimetype": "text/x-python",
   "name": "python",
   "nbconvert_exporter": "python",
   "pygments_lexer": "ipython3",
   "version": "3.7.9"
  }
 },
 "nbformat": 4,
 "nbformat_minor": 5
}
