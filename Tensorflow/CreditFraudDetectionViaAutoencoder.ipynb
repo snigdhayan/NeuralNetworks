{
 "cells": [
  {
   "cell_type": "code",
   "execution_count": 1,
   "id": "broad-intersection",
   "metadata": {},
   "outputs": [],
   "source": [
    "import matplotlib.pyplot as plt\n",
    "import numpy as np\n",
    "import pandas as pd\n",
    "import tensorflow as tf\n",
    "\n",
    "from sklearn.preprocessing import MinMaxScaler\n",
    "from sklearn.feature_selection import SelectKBest, chi2\n",
    "from sklearn.metrics import accuracy_score, precision_score, recall_score\n",
    "from sklearn.model_selection import train_test_split\n",
    "from tensorflow.keras import layers, losses\n",
    "from tensorflow.keras.datasets import fashion_mnist\n",
    "from tensorflow.keras.models import Model"
   ]
  },
  {
   "cell_type": "code",
   "execution_count": 2,
   "id": "fixed-exclusive",
   "metadata": {},
   "outputs": [],
   "source": [
    "# Read and downsize dataset to reduce computation\n",
    "dataframe = pd.read_csv(\"./credit_card_dataset.csv\")\n",
    "dataframe = dataframe.sample(50000, random_state=123)\n",
    "dataframe = dataframe.drop(columns=\"Time\")\n",
    "dataframe[\"Class\"] = dataframe[\"Class\"]\n",
    "\n",
    "# feature_size = len(dataframe.columns)-1\n",
    "# raw_data = dataframe.values\n",
    "# normal_dataframe = dataframe[dataframe[\"Class\"]==0]\n",
    "# outliers_dataframe = dataframe[dataframe[\"Class\"]==1]"
   ]
  },
  {
   "cell_type": "code",
   "execution_count": 3,
   "id": "decreased-bulgarian",
   "metadata": {},
   "outputs": [],
   "source": [
    "# Select the top n features\n",
    "data_norm = MinMaxScaler().fit_transform(dataframe.values)\n",
    "\n",
    "n = 10\n",
    "selector = SelectKBest(chi2, k=n)\n",
    "data_new = selector.fit_transform(data_norm, dataframe[\"Class\"])\n",
    "\n",
    "feature_support = selector.get_support()\n",
    "selected_features = dataframe.loc[:,feature_support].columns\n",
    "\n",
    "# Prepare transformed dataset with reduced features as dataframe\n",
    "reduced_df = pd.DataFrame(data = data_new, columns = selected_features)\n",
    "raw_data = reduced_df.values\n",
    "feature_size = len(selected_features)-1"
   ]
  },
  {
   "cell_type": "code",
   "execution_count": 4,
   "id": "satellite-guitar",
   "metadata": {},
   "outputs": [],
   "source": [
    "# The last column contains the labels\n",
    "labels = raw_data[:, -1]\n",
    "\n",
    "# The other columns consist of selected features\n",
    "data = raw_data[:, 0:-1]"
   ]
  },
  {
   "cell_type": "code",
   "execution_count": 5,
   "id": "empty-importance",
   "metadata": {},
   "outputs": [],
   "source": [
    "# Train test split\n",
    "train_data, test_data, train_labels, test_labels = train_test_split(data, labels, test_size=0.2, random_state=7)\n",
    "\n",
    "train_data = tf.cast(train_data, tf.float32)\n",
    "test_data = tf.cast(test_data, tf.float32)"
   ]
  },
  {
   "cell_type": "code",
   "execution_count": 6,
   "id": "gentle-annotation",
   "metadata": {},
   "outputs": [],
   "source": [
    "# Differentiate between normal and anomalous datasets\n",
    "train_labels = train_labels.astype(bool)\n",
    "test_labels = test_labels.astype(bool)\n",
    "\n",
    "normal_train_data = train_data[~train_labels]\n",
    "normal_test_data = test_data[~test_labels]\n",
    "\n",
    "anomalous_train_data = train_data[train_labels]\n",
    "anomalous_test_data = test_data[test_labels]"
   ]
  },
  {
   "cell_type": "code",
   "execution_count": 7,
   "id": "accepted-survey",
   "metadata": {},
   "outputs": [],
   "source": [
    "# Define an anomaly detector model as an autoencoder\n",
    "class AnomalyDetector(Model):\n",
    "  def __init__(self):\n",
    "    super(AnomalyDetector, self).__init__()\n",
    "    self.encoder = tf.keras.Sequential([\n",
    "      layers.Dense(64, activation=\"relu\"),\n",
    "      layers.Dense(32, activation=\"relu\"),\n",
    "      layers.Dense(16, activation=\"relu\"),\n",
    "      layers.Dense(8, activation=\"relu\")])\n",
    "\n",
    "    self.decoder = tf.keras.Sequential([\n",
    "      layers.Dense(8, activation=\"relu\"),\n",
    "      layers.Dense(16, activation=\"relu\"),\n",
    "      layers.Dense(32, activation=\"relu\"),\n",
    "      layers.Dense(64, activation=\"relu\"),\n",
    "      layers.Dense(feature_size, activation=\"sigmoid\")])\n",
    "\n",
    "  def call(self, x):\n",
    "    encoded = self.encoder(x)\n",
    "    decoded = self.decoder(encoded)\n",
    "    return decoded"
   ]
  },
  {
   "cell_type": "code",
   "execution_count": 8,
   "id": "cellular-original",
   "metadata": {},
   "outputs": [],
   "source": [
    "autoencoder = AnomalyDetector()\n",
    "autoencoder.compile(optimizer='adam', loss='MAE')"
   ]
  },
  {
   "cell_type": "code",
   "execution_count": 9,
   "id": "internal-logging",
   "metadata": {},
   "outputs": [
    {
     "name": "stdout",
     "output_type": "stream",
     "text": [
      "Epoch 1/20\n",
      "1248/1248 [==============================] - 2s 2ms/step - loss: 0.0380 - val_loss: 0.0343\n",
      "Epoch 2/20\n",
      "1248/1248 [==============================] - 2s 1ms/step - loss: 0.0315 - val_loss: 0.0288\n",
      "Epoch 3/20\n",
      "1248/1248 [==============================] - 2s 1ms/step - loss: 0.0264 - val_loss: 0.0242\n",
      "Epoch 4/20\n",
      "1248/1248 [==============================] - 2s 1ms/step - loss: 0.0219 - val_loss: 0.0214\n",
      "Epoch 5/20\n",
      "1248/1248 [==============================] - 2s 1ms/step - loss: 0.0206 - val_loss: 0.0200\n",
      "Epoch 6/20\n",
      "1248/1248 [==============================] - 2s 2ms/step - loss: 0.0180 - val_loss: 0.0174\n",
      "Epoch 7/20\n",
      "1248/1248 [==============================] - 2s 1ms/step - loss: 0.0165 - val_loss: 0.0160\n",
      "Epoch 8/20\n",
      "1248/1248 [==============================] - 2s 1ms/step - loss: 0.0162 - val_loss: 0.0164\n",
      "Epoch 9/20\n",
      "1248/1248 [==============================] - 2s 1ms/step - loss: 0.0160 - val_loss: 0.0157\n",
      "Epoch 10/20\n",
      "1248/1248 [==============================] - 2s 1ms/step - loss: 0.0159 - val_loss: 0.0161\n",
      "Epoch 11/20\n",
      "1248/1248 [==============================] - 2s 1ms/step - loss: 0.0158 - val_loss: 0.0157\n",
      "Epoch 12/20\n",
      "1248/1248 [==============================] - 2s 1ms/step - loss: 0.0156 - val_loss: 0.0157\n",
      "Epoch 13/20\n",
      "1248/1248 [==============================] - 2s 1ms/step - loss: 0.0150 - val_loss: 0.0146\n",
      "Epoch 14/20\n",
      "1248/1248 [==============================] - 2s 2ms/step - loss: 0.0139 - val_loss: 0.0134\n",
      "Epoch 15/20\n",
      "1248/1248 [==============================] - 2s 2ms/step - loss: 0.0133 - val_loss: 0.0134\n",
      "Epoch 16/20\n",
      "1248/1248 [==============================] - 2s 1ms/step - loss: 0.0131 - val_loss: 0.0132\n",
      "Epoch 17/20\n",
      "1248/1248 [==============================] - 2s 1ms/step - loss: 0.0130 - val_loss: 0.0131\n",
      "Epoch 18/20\n",
      "1248/1248 [==============================] - 2s 1ms/step - loss: 0.0128 - val_loss: 0.0132\n",
      "Epoch 19/20\n",
      "1248/1248 [==============================] - 2s 1ms/step - loss: 0.0127 - val_loss: 0.0143\n",
      "Epoch 20/20\n",
      "1248/1248 [==============================] - 2s 1ms/step - loss: 0.0126 - val_loss: 0.0124\n"
     ]
    }
   ],
   "source": [
    "# Train the autoencoder on the normal dataset\n",
    "history = autoencoder.fit(normal_train_data, normal_train_data, \n",
    "          epochs=20, \n",
    "          batch_size=32,\n",
    "          validation_data=(normal_test_data, normal_test_data),\n",
    "          shuffle=True)"
   ]
  },
  {
   "cell_type": "code",
   "execution_count": 10,
   "id": "impressive-google",
   "metadata": {},
   "outputs": [
    {
     "data": {
      "text/plain": [
       "<matplotlib.legend.Legend at 0x18f31676b88>"
      ]
     },
     "execution_count": 10,
     "metadata": {},
     "output_type": "execute_result"
    },
    {
     "data": {
      "image/png": "[encoded data removed]",
      "text/plain": [
       "<Figure size 432x288 with 1 Axes>"
      ]
     },
     "metadata": {
      "needs_background": "light"
     },
     "output_type": "display_data"
    }
   ],
   "source": [
    "plt.plot(history.history[\"loss\"], label=\"Training Loss\")\n",
    "plt.plot(history.history[\"val_loss\"], label=\"Validation Loss\")\n",
    "plt.legend()"
   ]
  },
  {
   "cell_type": "code",
   "execution_count": 11,
   "id": "distributed-pencil",
   "metadata": {},
   "outputs": [],
   "source": [
    "# Compute reconstruction error of normal test data\n",
    "reconstructions = autoencoder.predict(normal_test_data)\n",
    "train_loss = tf.keras.losses.MAE(reconstructions, normal_test_data)"
   ]
  },
  {
   "cell_type": "code",
   "execution_count": 12,
   "id": "subject-furniture",
   "metadata": {},
   "outputs": [
    {
     "name": "stdout",
     "output_type": "stream",
     "text": [
      "Threshold:  0.020495895\n"
     ]
    }
   ],
   "source": [
    "# Initial ansatz for threshold\n",
    "threshold = np.mean(train_loss) + np.std(train_loss)\n",
    "print(\"Threshold: \", threshold)"
   ]
  },
  {
   "cell_type": "code",
   "execution_count": 13,
   "id": "italic-chinese",
   "metadata": {},
   "outputs": [
    {
     "data": {
      "image/png": "[encoded data removed]",
      "text/plain": [
       "<Figure size 432x288 with 1 Axes>"
      ]
     },
     "metadata": {
      "needs_background": "light"
     },
     "output_type": "display_data"
    }
   ],
   "source": [
    "# Compute reconstruction error of anomalous test data\n",
    "reconstructions = autoencoder.predict(anomalous_test_data)\n",
    "test_loss = tf.keras.losses.MAE(reconstructions, anomalous_test_data)\n",
    "\n",
    "plt.hist(test_loss, bins=50)\n",
    "plt.xlabel(\"Test loss\")\n",
    "plt.ylabel(\"No of examples\")\n",
    "plt.show()"
   ]
  },
  {
   "cell_type": "code",
   "execution_count": 14,
   "id": "fatty-investing",
   "metadata": {},
   "outputs": [],
   "source": [
    "def predict(model, data, threshold):\n",
    "  reconstructions = model(data)\n",
    "  loss = tf.keras.losses.MAE(reconstructions, data)\n",
    "  return tf.math.less(loss, threshold)\n",
    "\n",
    "def print_stats(predictions, labels):\n",
    "  print(\"Accuracy = {}\".format(accuracy_score(labels, preds)))\n",
    "  print(\"Precision = {}\".format(precision_score(labels, preds)))\n",
    "  print(\"Recall = {}\".format(recall_score(labels, preds)))"
   ]
  },
  {
   "cell_type": "code",
   "execution_count": 15,
   "id": "backed-starter",
   "metadata": {},
   "outputs": [
    {
     "name": "stdout",
     "output_type": "stream",
     "text": [
      "Accuracy = 0.1009\n",
      "Precision = 0.0\n",
      "Recall = 0.0\n"
     ]
    }
   ],
   "source": [
    "# Evaluate performance\n",
    "preds = predict(autoencoder, test_data, threshold)\n",
    "print_stats(preds, test_labels)"
   ]
  },
  {
   "cell_type": "code",
   "execution_count": 16,
   "id": "charged-bonus",
   "metadata": {},
   "outputs": [
    {
     "name": "stdout",
     "output_type": "stream",
     "text": [
      "Accuracy = 0.9979\n",
      "Precision = 0.0\n",
      "Recall = 0.0\n"
     ]
    }
   ],
   "source": [
    "# Evaluate performance based on a different threshold\n",
    "preds = predict(autoencoder, test_data, threshold/10)\n",
    "print_stats(preds, test_labels)"
   ]
  }
 ],
 "metadata": {
  "kernelspec": {
   "display_name": "Python 3.7.7 64-bit ('tf': conda)",
   "language": "python",
   "name": "python37764bittfconda08f0c17ca2ba44d18050ac627d0335c2"
  },
  "language_info": {
   "codemirror_mode": {
    "name": "ipython",
    "version": 3
   },
   "file_extension": ".py",
   "mimetype": "text/x-python",
   "name": "python",
   "nbconvert_exporter": "python",
   "pygments_lexer": "ipython3",
   "version": "3.7.9"
  }
 },
 "nbformat": 4,
 "nbformat_minor": 5
}
